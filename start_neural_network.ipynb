{
  "nbformat": 4,
  "nbformat_minor": 0,
  "metadata": {
    "colab": {
      "name": "start-neural-network.ipynb",
      "provenance": [],
      "collapsed_sections": [],
      "authorship_tag": "ABX9TyP0//Du8+Vc25lLHP5hW6wN",
      "include_colab_link": true
    },
    "kernelspec": {
      "name": "python3",
      "display_name": "Python 3"
    }
  },
  "cells": [
    {
      "cell_type": "markdown",
      "metadata": {
        "id": "view-in-github",
        "colab_type": "text"
      },
      "source": [
        "<a href=\"https://colab.research.google.com/github/Peter-Thong/machine-learning/blob/master/start_neural_network.ipynb\" target=\"_parent\"><img src=\"https://colab.research.google.com/assets/colab-badge.svg\" alt=\"Open In Colab\"/></a>"
      ]
    },
    {
      "cell_type": "code",
      "metadata": {
        "id": "0QRjjrg0O7Q1"
      },
      "source": [
        "inputs = [1, 2, 3, 2.5]\r\n",
        "weights = [[0.2, 0.8, -0.5, 1],\r\n",
        "           [0.5, -0.91, 0.26, -0.5],\r\n",
        "           [-0.26, -0.27, 0.17, 0.87]]\r\n",
        "biases = [2, 3, 0.5]"
      ],
      "execution_count": null,
      "outputs": []
    },
    {
      "cell_type": "code",
      "metadata": {
        "colab": {
          "base_uri": "https://localhost:8080/"
        },
        "id": "Kxm6E1FpQfRM",
        "outputId": "801e91bd-36c6-4d78-d1e5-04232ebbc40a"
      },
      "source": [
        "layer_outputs = []\r\n",
        "\r\n",
        "for neuron_weights, neuron_bias in zip(weights, biases):\r\n",
        "  neuron_output = 0\r\n",
        "\r\n",
        "  for n_input, weight in zip(inputs, neuron_weights):\r\n",
        "    neuron_output += n_input*weight\r\n",
        "\r\n",
        "  neuron_output += neuron_bias\r\n",
        "  layer_outputs.append(neuron_output)\r\n",
        "\r\n",
        "print(layer_outputs)"
      ],
      "execution_count": null,
      "outputs": [
        {
          "output_type": "stream",
          "text": [
            "[4.8, 1.21, 2.385]\n"
          ],
          "name": "stdout"
        }
      ]
    },
    {
      "cell_type": "code",
      "metadata": {
        "id": "q2miZJe8CrO2"
      },
      "source": [
        "import numpy as np\r\n",
        "\r\n",
        "inputs = [1.0, 2.0, 3.0, 2.5]\r\n",
        "weights = [0.2, 0.8, -0.5, 1.0]\r\n",
        "bias = 2.0\r\n"
      ],
      "execution_count": null,
      "outputs": []
    },
    {
      "cell_type": "code",
      "metadata": {
        "colab": {
          "base_uri": "https://localhost:8080/"
        },
        "id": "SJ1vJSwcCrr_",
        "outputId": "aa28ddd8-0b89-4a08-8232-5e949b6f5b41"
      },
      "source": [
        "output = np.dot(inputs, weights) + bias\r\n",
        "print(output)"
      ],
      "execution_count": null,
      "outputs": [
        {
          "output_type": "stream",
          "text": [
            "4.8\n"
          ],
          "name": "stdout"
        }
      ]
    },
    {
      "cell_type": "code",
      "metadata": {
        "colab": {
          "base_uri": "https://localhost:8080/"
        },
        "id": "e23d9i4XHoTP",
        "outputId": "df47f14c-74e7-4c27-fe33-dd5ba8a33a67"
      },
      "source": [
        "np.array([[1, 2, 3]])"
      ],
      "execution_count": null,
      "outputs": [
        {
          "output_type": "execute_result",
          "data": {
            "text/plain": [
              "array([[1, 2, 3]])"
            ]
          },
          "metadata": {
            "tags": []
          },
          "execution_count": 3
        }
      ]
    },
    {
      "cell_type": "code",
      "metadata": {
        "colab": {
          "base_uri": "https://localhost:8080/"
        },
        "id": "VLjlUKhyHw2N",
        "outputId": "021e5ac5-d39c-423a-a05a-01b330a7e0bf"
      },
      "source": [
        "a = [1, 2, 3]\r\n",
        "np.expand_dims(np.array(a), axis=0)"
      ],
      "execution_count": null,
      "outputs": [
        {
          "output_type": "execute_result",
          "data": {
            "text/plain": [
              "array([[1, 2, 3]])"
            ]
          },
          "metadata": {
            "tags": []
          },
          "execution_count": 6
        }
      ]
    },
    {
      "cell_type": "code",
      "metadata": {
        "colab": {
          "base_uri": "https://localhost:8080/"
        },
        "id": "cA_bwZ68IBWl",
        "outputId": "25e26156-ee54-4738-e97d-87f1d7d6349b"
      },
      "source": [
        "a = [1, 2, 3]\r\n",
        "b = [2, 3, 4]\r\n",
        "\r\n",
        "a = np.array([a])\r\n",
        "b = np.array([b]).T\r\n",
        "\r\n",
        "np.dot(a, b)"
      ],
      "execution_count": null,
      "outputs": [
        {
          "output_type": "execute_result",
          "data": {
            "text/plain": [
              "array([[20]])"
            ]
          },
          "metadata": {
            "tags": []
          },
          "execution_count": 7
        }
      ]
    },
    {
      "cell_type": "code",
      "metadata": {
        "id": "izCx0d5tJjd0"
      },
      "source": [
        "inputs = [[1.0, 2.0, 3.0, 2.5],\r\n",
        " [2.0, 5.0, -1.0, 2.0],\r\n",
        " [-1.5, 2.7, 3.3, -0.8]]\r\n",
        "weights = [[0.2, 0.8, -0.5, 1.0],\r\n",
        " [0.5, -0.91, 0.26, -0.5],\r\n",
        " [-0.26, -0.27, 0.17, 0.87]]\r\n",
        "biases = [2.0, 3.0, 0.5]\r\n"
      ],
      "execution_count": null,
      "outputs": []
    },
    {
      "cell_type": "code",
      "metadata": {
        "colab": {
          "base_uri": "https://localhost:8080/"
        },
        "id": "VtQcxE1dLAqs",
        "outputId": "029d8146-03c1-4908-b259-39307116f932"
      },
      "source": [
        "output = np.dot(inputs, np.array(weights).T) + bias\r\n",
        "print(output)"
      ],
      "execution_count": null,
      "outputs": [
        {
          "output_type": "stream",
          "text": [
            "[[ 4.8    0.21   3.885]\n",
            " [ 8.9   -2.81   1.7  ]\n",
            " [ 1.41   0.051  1.526]]\n"
          ],
          "name": "stdout"
        }
      ]
    },
    {
      "cell_type": "code",
      "metadata": {
        "id": "ACqx2FpMM9mX"
      },
      "source": [
        "inputs = [[1, 2, 3, 2.5], [2., 5., -1., 2], [-1.5, 2.7, 3.3, -0.8]]\r\n",
        "weights = [[0.2, 0.8, -0.5, 1],\r\n",
        "[0.5, -0.91, 0.26, -0.5],\r\n",
        "[-0.26, -0.27, 0.17, 0.87]]\r\n",
        "biases = [2, 3, 0.5]\r\n",
        "weights2 = [[0.1, -0.14, 0.5],\r\n",
        "[-0.5, 0.12, -0.33],\r\n",
        "[-0.44, 0.73, -0.13]]\r\n",
        "biases2 = [-1, 2, -0.5]"
      ],
      "execution_count": null,
      "outputs": []
    },
    {
      "cell_type": "code",
      "metadata": {
        "colab": {
          "base_uri": "https://localhost:8080/"
        },
        "id": "vOVnxalgNK6n",
        "outputId": "601c379e-34e2-4d98-d002-7a2da3db9829"
      },
      "source": [
        "layer1_output = np.dot(inputs, np.array(weights).T) + biases\r\n",
        "layer2_output = np.dot(layer1_output, np.array(weights2).T) + biases2\r\n",
        "\r\n",
        "print(layer2_output)"
      ],
      "execution_count": null,
      "outputs": [
        {
          "output_type": "stream",
          "text": [
            "[[ 0.5031  -1.04185 -2.03875]\n",
            " [ 0.2434  -2.7332  -5.7633 ]\n",
            " [-0.99314  1.41254 -0.35655]]\n"
          ],
          "name": "stdout"
        }
      ]
    },
    {
      "cell_type": "code",
      "metadata": {
        "colab": {
          "base_uri": "https://localhost:8080/"
        },
        "id": "wGSy67lmPhvz",
        "outputId": "1c016c9e-2138-4e85-da7f-983cc6089e93"
      },
      "source": [
        "pip install nnfs\r\n"
      ],
      "execution_count": 4,
      "outputs": [
        {
          "output_type": "stream",
          "text": [
            "Collecting nnfs\n",
            "  Downloading https://files.pythonhosted.org/packages/06/8c/3003a41d5229e65da792331b060dcad8100a0a5b9760f8c2074cde864148/nnfs-0.5.1-py3-none-any.whl\n",
            "Requirement already satisfied: numpy in /usr/local/lib/python3.6/dist-packages (from nnfs) (1.19.5)\n",
            "Installing collected packages: nnfs\n",
            "Successfully installed nnfs-0.5.1\n"
          ],
          "name": "stdout"
        }
      ]
    },
    {
      "cell_type": "code",
      "metadata": {
        "id": "Oyl7XL83PkiW"
      },
      "source": [
        "from nnfs.datasets import spiral_data"
      ],
      "execution_count": 5,
      "outputs": []
    },
    {
      "cell_type": "code",
      "metadata": {
        "id": "bcm-vGlbQFt-"
      },
      "source": [
        "import numpy as np\r\n",
        "import nnfs\r\n",
        "\r\n",
        "nnfs.init()"
      ],
      "execution_count": 6,
      "outputs": []
    },
    {
      "cell_type": "code",
      "metadata": {
        "colab": {
          "base_uri": "https://localhost:8080/"
        },
        "id": "P0sidmRKWSSi",
        "outputId": "071c1d91-eba5-46f3-8447-5e8e2f35f23e"
      },
      "source": [
        "print(0.01 * np.random.randn(2, 5))"
      ],
      "execution_count": null,
      "outputs": [
        {
          "output_type": "stream",
          "text": [
            "[[ 0.01764052  0.00400157  0.00978738  0.02240893  0.01867558]\n",
            " [-0.00977278  0.00950088 -0.00151357 -0.00103219  0.00410599]]\n"
          ],
          "name": "stdout"
        }
      ]
    },
    {
      "cell_type": "code",
      "metadata": {
        "id": "9SA4dAWAQNb7"
      },
      "source": [
        "class Layer_Dense:\r\n",
        "\r\n",
        "  def __init__(self, n_input, n_neurons):\r\n",
        "    self.weights = 0.01 * np.random.randn(n_input, n_neurons)\r\n",
        "    self.biases = np.zeros((1, n_neurons))\r\n",
        "\r\n",
        "  def forward(self, inputs):\r\n",
        "    self.output = np.dot(inputs, self.weights) + self.biases"
      ],
      "execution_count": 2,
      "outputs": []
    },
    {
      "cell_type": "code",
      "metadata": {
        "colab": {
          "base_uri": "https://localhost:8080/"
        },
        "id": "ZEev0uHfXfFx",
        "outputId": "8d583062-4354-4d39-9bde-bfce6bba5846"
      },
      "source": [
        "X, y = spiral_data(samples=100, classes=3)\r\n",
        "\r\n",
        "dense1 = Layer_Dense(2, 3)\r\n",
        "\r\n",
        "dense1.forward(X)\r\n",
        "\r\n",
        "print(dense1.output[:5])"
      ],
      "execution_count": 7,
      "outputs": [
        {
          "output_type": "stream",
          "text": [
            "[[ 0.0000000e+00  0.0000000e+00  0.0000000e+00]\n",
            " [-1.0475188e-04  1.1395361e-04 -4.7983500e-05]\n",
            " [-2.7414842e-04  3.1729150e-04 -8.6921798e-05]\n",
            " [-4.2188365e-04  5.2666257e-04 -5.5912682e-05]\n",
            " [-5.7707680e-04  7.1401405e-04 -8.9430439e-05]]\n"
          ],
          "name": "stdout"
        }
      ]
    },
    {
      "cell_type": "code",
      "metadata": {
        "colab": {
          "base_uri": "https://localhost:8080/"
        },
        "id": "iVUFTiQKg9dw",
        "outputId": "7a8a1149-fc71-4490-8690-2a73bcc08710"
      },
      "source": [
        "#basic of relu in numPY\r\n",
        "import numpy as np\r\n",
        "inputs = [0, 2, -1, 3.3, -2.7, 1.1, 2.2, -100]\r\n",
        "output = np.maximum(0, inputs)\r\n",
        "print(output)\r\n"
      ],
      "execution_count": 1,
      "outputs": [
        {
          "output_type": "stream",
          "text": [
            "[0.  2.  0.  3.3 0.  1.1 2.2 0. ]\n"
          ],
          "name": "stdout"
        }
      ]
    },
    {
      "cell_type": "code",
      "metadata": {
        "colab": {
          "base_uri": "https://localhost:8080/"
        },
        "id": "mnp9q1-3hq-5",
        "outputId": "82485445-b070-4317-9926-c44372c86789"
      },
      "source": [
        "# relu activation\r\n",
        "\r\n",
        "class Activation_ReLu:\r\n",
        "\r\n",
        "  def forward(self, inputs):\r\n",
        "    self.output = np.maximum(0, inputs)\r\n",
        "\r\n",
        "activation1 = Activation_ReLu()\r\n",
        "\r\n",
        "activation1.forward(dense1.output)\r\n",
        "\r\n",
        "print(activation1.output[:5])"
      ],
      "execution_count": 8,
      "outputs": [
        {
          "output_type": "stream",
          "text": [
            "[[0.         0.         0.        ]\n",
            " [0.         0.00011395 0.        ]\n",
            " [0.         0.00031729 0.        ]\n",
            " [0.         0.00052666 0.        ]\n",
            " [0.         0.00071401 0.        ]]\n"
          ],
          "name": "stdout"
        }
      ]
    }
  ]
}