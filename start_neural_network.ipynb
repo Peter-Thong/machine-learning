{
  "nbformat": 4,
  "nbformat_minor": 0,
  "metadata": {
    "colab": {
      "name": "start-neural-network.ipynb",
      "provenance": [],
      "collapsed_sections": [],
      "authorship_tag": "ABX9TyN0fzwcYdQlalsBoYNnXF1x",
      "include_colab_link": true
    },
    "kernelspec": {
      "name": "python3",
      "display_name": "Python 3"
    }
  },
  "cells": [
    {
      "cell_type": "markdown",
      "metadata": {
        "id": "view-in-github",
        "colab_type": "text"
      },
      "source": [
        "<a href=\"https://colab.research.google.com/github/Peter-Thong/machine-learning/blob/master/start_neural_network.ipynb\" target=\"_parent\"><img src=\"https://colab.research.google.com/assets/colab-badge.svg\" alt=\"Open In Colab\"/></a>"
      ]
    },
    {
      "cell_type": "code",
      "metadata": {
        "id": "0QRjjrg0O7Q1"
      },
      "source": [
        "inputs = [1, 2, 3, 2.5]\r\n",
        "weights = [[0.2, 0.8, -0.5, 1],\r\n",
        "           [0.5, -0.91, 0.26, -0.5],\r\n",
        "           [-0.26, -0.27, 0.17, 0.87]]\r\n",
        "biases = [2, 3, 0.5]"
      ],
      "execution_count": 6,
      "outputs": []
    },
    {
      "cell_type": "code",
      "metadata": {
        "colab": {
          "base_uri": "https://localhost:8080/"
        },
        "id": "Kxm6E1FpQfRM",
        "outputId": "801e91bd-36c6-4d78-d1e5-04232ebbc40a"
      },
      "source": [
        "layer_outputs = []\r\n",
        "\r\n",
        "for neuron_weights, neuron_bias in zip(weights, biases):\r\n",
        "  neuron_output = 0\r\n",
        "\r\n",
        "  for n_input, weight in zip(inputs, neuron_weights):\r\n",
        "    neuron_output += n_input*weight\r\n",
        "\r\n",
        "  neuron_output += neuron_bias\r\n",
        "  layer_outputs.append(neuron_output)\r\n",
        "\r\n",
        "print(layer_outputs)"
      ],
      "execution_count": 7,
      "outputs": [
        {
          "output_type": "stream",
          "text": [
            "[4.8, 1.21, 2.385]\n"
          ],
          "name": "stdout"
        }
      ]
    }
  ]
}